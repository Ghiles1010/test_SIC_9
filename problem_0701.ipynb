{
  "nbformat": 4,
  "nbformat_minor": 0,
  "metadata": {
    "kernelspec": {
      "display_name": "Python 3",
      "language": "python",
      "name": "python3"
    },
    "language_info": {
      "codemirror_mode": {
        "name": "ipython",
        "version": 3
      },
      "file_extension": ".py",
      "mimetype": "text/x-python",
      "name": "python",
      "nbconvert_exporter": "python",
      "pygments_lexer": "ipython3",
      "version": "3.7.3"
    },
    "colab": {
      "name": "problem_0701.ipynb",
      "provenance": [],
      "include_colab_link": true
    },
    "accelerator": "GPU"
  },
  "cells": [
    {
      "cell_type": "markdown",
      "metadata": {
        "id": "view-in-github",
        "colab_type": "text"
      },
      "source": [
        "<a href=\"https://colab.research.google.com/github/Ghiles1010/test_SIC_9/blob/main/problem_0701.ipynb\" target=\"_parent\"><img src=\"https://colab.research.google.com/assets/colab-badge.svg\" alt=\"Open In Colab\"/></a>"
      ]
    },
    {
      "cell_type": "markdown",
      "metadata": {
        "id": "EXZcGfi-KlCt"
      },
      "source": [
        "## Quiz #0701"
      ]
    },
    {
      "cell_type": "markdown",
      "metadata": {
        "id": "cdardhDQKlCz"
      },
      "source": [
        "### \"TensorFlow machine learning with Calilfornia housing data\""
      ]
    },
    {
      "cell_type": "code",
      "metadata": {
        "id": "KpsGXrUlKlC3"
      },
      "source": [
        "import numpy as np\n",
        "import pandas as pd\n",
        "from sklearn.datasets import fetch_california_housing\n",
        "from sklearn.model_selection import train_test_split\n",
        "from sklearn.preprocessing import scale\n",
        "import matplotlib.pyplot as plt\n",
        "import tensorflow as tf\n",
        "import tensorflow.compat.v1 as tf\n",
        "tf.compat.v1.disable_eager_execution()\n",
        "\n",
        "import warnings\n",
        "%matplotlib inline\n",
        "warnings.filterwarnings('ignore')    # Turn the warnings off."
      ],
      "execution_count": 28,
      "outputs": []
    },
    {
      "cell_type": "code",
      "metadata": {
        "id": "56cVrQuK1oqb"
      },
      "source": [
        "\n"
      ],
      "execution_count": 28,
      "outputs": []
    },
    {
      "cell_type": "markdown",
      "metadata": {
        "id": "SfnZjqWDKlC5"
      },
      "source": [
        "#### Answer the following question by providing Python code:"
      ]
    },
    {
      "cell_type": "code",
      "metadata": {
        "id": "c_Xp6vmvKlC6"
      },
      "source": [
        "# Bring the data.\n",
        "housing_data = fetch_california_housing()"
      ],
      "execution_count": 29,
      "outputs": []
    },
    {
      "cell_type": "code",
      "metadata": {
        "id": "PI6LM27JKlC7",
        "colab": {
          "base_uri": "https://localhost:8080/"
        },
        "outputId": "fcc9bb0d-2187-4ca4-e843-85b631bf9a43"
      },
      "source": [
        "# Read the description.\n",
        "print(housing_data['DESCR'])"
      ],
      "execution_count": 30,
      "outputs": [
        {
          "output_type": "stream",
          "name": "stdout",
          "text": [
            ".. _california_housing_dataset:\n",
            "\n",
            "California Housing dataset\n",
            "--------------------------\n",
            "\n",
            "**Data Set Characteristics:**\n",
            "\n",
            "    :Number of Instances: 20640\n",
            "\n",
            "    :Number of Attributes: 8 numeric, predictive attributes and the target\n",
            "\n",
            "    :Attribute Information:\n",
            "        - MedInc        median income in block\n",
            "        - HouseAge      median house age in block\n",
            "        - AveRooms      average number of rooms\n",
            "        - AveBedrms     average number of bedrooms\n",
            "        - Population    block population\n",
            "        - AveOccup      average house occupancy\n",
            "        - Latitude      house block latitude\n",
            "        - Longitude     house block longitude\n",
            "\n",
            "    :Missing Attribute Values: None\n",
            "\n",
            "This dataset was obtained from the StatLib repository.\n",
            "http://lib.stat.cmu.edu/datasets/\n",
            "\n",
            "The target variable is the median house value for California districts.\n",
            "\n",
            "This dataset was derived from the 1990 U.S. census, using one row per census\n",
            "block group. A block group is the smallest geographical unit for which the U.S.\n",
            "Census Bureau publishes sample data (a block group typically has a population\n",
            "of 600 to 3,000 people).\n",
            "\n",
            "It can be downloaded/loaded using the\n",
            ":func:`sklearn.datasets.fetch_california_housing` function.\n",
            "\n",
            ".. topic:: References\n",
            "\n",
            "    - Pace, R. Kelley and Ronald Barry, Sparse Spatial Autoregressions,\n",
            "      Statistics and Probability Letters, 33 (1997) 291-297\n",
            "\n"
          ]
        }
      ]
    },
    {
      "cell_type": "markdown",
      "metadata": {
        "id": "cIMdMJRGKlC8"
      },
      "source": [
        "1). Explore the data:\n",
        "- Display the dataset as a DataFrame with column labels."
      ]
    },
    {
      "cell_type": "code",
      "metadata": {
        "id": "DPhpP0z4KlC9",
        "colab": {
          "base_uri": "https://localhost:8080/",
          "height": 201
        },
        "outputId": "df0b6b3f-b42c-4505-8df4-04739af78071"
      },
      "source": [
        "def load_data():\n",
        "  housing_data = fetch_california_housing()\n",
        "  X, Y = housing_data.data, housing_data.target\n",
        "  feature_names = housing_data['feature_names'] + ['target']\n",
        "  df = pd.DataFrame(data= np.c_[X, Y], columns= feature_names)\n",
        "\n",
        "  return df\n",
        "\n",
        "df = load_data()\n",
        "df.head()"
      ],
      "execution_count": 31,
      "outputs": [
        {
          "output_type": "execute_result",
          "data": {
            "text/html": [
              "<div>\n",
              "<style scoped>\n",
              "    .dataframe tbody tr th:only-of-type {\n",
              "        vertical-align: middle;\n",
              "    }\n",
              "\n",
              "    .dataframe tbody tr th {\n",
              "        vertical-align: top;\n",
              "    }\n",
              "\n",
              "    .dataframe thead th {\n",
              "        text-align: right;\n",
              "    }\n",
              "</style>\n",
              "<table border=\"1\" class=\"dataframe\">\n",
              "  <thead>\n",
              "    <tr style=\"text-align: right;\">\n",
              "      <th></th>\n",
              "      <th>MedInc</th>\n",
              "      <th>HouseAge</th>\n",
              "      <th>AveRooms</th>\n",
              "      <th>AveBedrms</th>\n",
              "      <th>Population</th>\n",
              "      <th>AveOccup</th>\n",
              "      <th>Latitude</th>\n",
              "      <th>Longitude</th>\n",
              "      <th>target</th>\n",
              "    </tr>\n",
              "  </thead>\n",
              "  <tbody>\n",
              "    <tr>\n",
              "      <th>0</th>\n",
              "      <td>8.3252</td>\n",
              "      <td>41.0</td>\n",
              "      <td>6.984127</td>\n",
              "      <td>1.023810</td>\n",
              "      <td>322.0</td>\n",
              "      <td>2.555556</td>\n",
              "      <td>37.88</td>\n",
              "      <td>-122.23</td>\n",
              "      <td>4.526</td>\n",
              "    </tr>\n",
              "    <tr>\n",
              "      <th>1</th>\n",
              "      <td>8.3014</td>\n",
              "      <td>21.0</td>\n",
              "      <td>6.238137</td>\n",
              "      <td>0.971880</td>\n",
              "      <td>2401.0</td>\n",
              "      <td>2.109842</td>\n",
              "      <td>37.86</td>\n",
              "      <td>-122.22</td>\n",
              "      <td>3.585</td>\n",
              "    </tr>\n",
              "    <tr>\n",
              "      <th>2</th>\n",
              "      <td>7.2574</td>\n",
              "      <td>52.0</td>\n",
              "      <td>8.288136</td>\n",
              "      <td>1.073446</td>\n",
              "      <td>496.0</td>\n",
              "      <td>2.802260</td>\n",
              "      <td>37.85</td>\n",
              "      <td>-122.24</td>\n",
              "      <td>3.521</td>\n",
              "    </tr>\n",
              "    <tr>\n",
              "      <th>3</th>\n",
              "      <td>5.6431</td>\n",
              "      <td>52.0</td>\n",
              "      <td>5.817352</td>\n",
              "      <td>1.073059</td>\n",
              "      <td>558.0</td>\n",
              "      <td>2.547945</td>\n",
              "      <td>37.85</td>\n",
              "      <td>-122.25</td>\n",
              "      <td>3.413</td>\n",
              "    </tr>\n",
              "    <tr>\n",
              "      <th>4</th>\n",
              "      <td>3.8462</td>\n",
              "      <td>52.0</td>\n",
              "      <td>6.281853</td>\n",
              "      <td>1.081081</td>\n",
              "      <td>565.0</td>\n",
              "      <td>2.181467</td>\n",
              "      <td>37.85</td>\n",
              "      <td>-122.25</td>\n",
              "      <td>3.422</td>\n",
              "    </tr>\n",
              "  </tbody>\n",
              "</table>\n",
              "</div>"
            ],
            "text/plain": [
              "   MedInc  HouseAge  AveRooms  AveBedrms  ...  AveOccup  Latitude  Longitude  target\n",
              "0  8.3252      41.0  6.984127   1.023810  ...  2.555556     37.88    -122.23   4.526\n",
              "1  8.3014      21.0  6.238137   0.971880  ...  2.109842     37.86    -122.22   3.585\n",
              "2  7.2574      52.0  8.288136   1.073446  ...  2.802260     37.85    -122.24   3.521\n",
              "3  5.6431      52.0  5.817352   1.073059  ...  2.547945     37.85    -122.25   3.413\n",
              "4  3.8462      52.0  6.281853   1.081081  ...  2.181467     37.85    -122.25   3.422\n",
              "\n",
              "[5 rows x 9 columns]"
            ]
          },
          "metadata": {},
          "execution_count": 31
        }
      ]
    },
    {
      "cell_type": "markdown",
      "metadata": {
        "id": "ikL70Mh0q-sY"
      },
      "source": [
        "Let's check disitrbutions of the data"
      ]
    },
    {
      "cell_type": "code",
      "metadata": {
        "colab": {
          "base_uri": "https://localhost:8080/",
          "height": 592
        },
        "id": "GDUvrcuhodH_",
        "outputId": "f90aad22-69d8-4b49-cc03-9c3db8b48517"
      },
      "source": [
        "import matplotlib.pyplot as plt\n",
        "\n",
        "r, c = 3, 3\n",
        "fig, ax = plt.subplots(r, c)\n",
        "\n",
        "fig.set_figwidth(10)\n",
        "fig.set_figheight(10)\n",
        "\n",
        "ax = ax.ravel()\n",
        "for idx, column in enumerate(df.columns):\n",
        "  df.boxplot(column = column, ax=ax[idx]) "
      ],
      "execution_count": 32,
      "outputs": [
        {
          "output_type": "display_data",
          "data": {
            "image/png": "[encoded data removed]",
            "text/plain": [
              "<Figure size 720x720 with 9 Axes>"
            ]
          },
          "metadata": {
            "needs_background": "light"
          }
        }
      ]
    },
    {
      "cell_type": "code",
      "metadata": {
        "colab": {
          "base_uri": "https://localhost:8080/",
          "height": 283
        },
        "id": "XV6Co2B2xSVa",
        "outputId": "880b4090-dd9f-4535-9937-5a1728b49696"
      },
      "source": [
        "plt.scatter(x=df['Latitude'], y=df['Longitude'], c=df['target'])\n",
        "plt.rcParams[\"figure.figsize\"] = (7,7)\n",
        "plt.xlabel('Latitude')\n",
        "plt.ylabel('Longitude')\n",
        "cbar = plt.colorbar()\n",
        "cbar.set_label(\"target\")"
      ],
      "execution_count": 33,
      "outputs": [
        {
          "output_type": "display_data",
          "data": {
            "image/png": "[encoded data removed]",
            "text/plain": [
              "<Figure size 432x288 with 2 Axes>"
            ]
          },
          "metadata": {
            "needs_background": "light"
          }
        }
      ]
    },
    {
      "cell_type": "markdown",
      "metadata": {
        "id": "g84anSIX0Ued"
      },
      "source": [
        "We can see that houses with lower latitude and higher longitude have higher target values"
      ]
    },
    {
      "cell_type": "code",
      "metadata": {
        "colab": {
          "base_uri": "https://localhost:8080/"
        },
        "id": "mWtEBGzA0Ttb",
        "outputId": "6204a92d-814c-4d9c-b237-a12eb0caf7e6"
      },
      "source": [
        "df.isnull().sum()"
      ],
      "execution_count": 34,
      "outputs": [
        {
          "output_type": "execute_result",
          "data": {
            "text/plain": [
              "MedInc        0\n",
              "HouseAge      0\n",
              "AveRooms      0\n",
              "AveBedrms     0\n",
              "Population    0\n",
              "AveOccup      0\n",
              "Latitude      0\n",
              "Longitude     0\n",
              "target        0\n",
              "dtype: int64"
            ]
          },
          "metadata": {},
          "execution_count": 34
        }
      ]
    },
    {
      "cell_type": "markdown",
      "metadata": {
        "id": "ZGSR7lNg0o6q"
      },
      "source": [
        "No missing values"
      ]
    },
    {
      "cell_type": "markdown",
      "metadata": {
        "id": "iJ0dFyfjKlC_"
      },
      "source": [
        "2). Build a machine learning model with TensorFlow. \n",
        "- Preprocess the data if necessary.\n",
        "- Build a linear regression model.\n",
        "- Train the model.\n",
        "- Calculate the error metrics such as MSE and RMSE (in-sample and out-of-sample). Target: RMSE < 1."
      ]
    },
    {
      "cell_type": "markdown",
      "metadata": {
        "id": "iQ3rPwDGoOiX"
      },
      "source": [
        "# Preprocess"
      ]
    },
    {
      "cell_type": "markdown",
      "metadata": {
        "id": "k6AjLoYPolLP"
      },
      "source": [
        "We'll do the following scalings :\n",
        "\n",
        "<ul>\n",
        "  <li><b>We will use Robust scaling for the data suffering from extreme outliers:</b></li>\n",
        "  Avgrooms - avgBedrms - Population - AveOccup - medInc<br/>\n",
        "  The formula is : \n",
        "  $$ \\frac{x-median}{Q_{25} - Q_{75}}$$\n",
        "  so that outliers dont affect that much\n",
        "  <li><b>We will use Standard scaling for :</b></li>\n",
        "  - Target<br/>\n",
        "  - houseAge\n",
        "  <li><b>We will use Min MAX scaling for :</b></li>\n",
        "  - Latitude<br/>\n",
        "  - Longitude\n",
        "\n",
        "<ul/>\n"
      ]
    },
    {
      "cell_type": "code",
      "metadata": {
        "id": "Yl4MI0KSqO-5",
        "colab": {
          "base_uri": "https://localhost:8080/"
        },
        "outputId": "5b4bc8d8-f05d-44bd-9929-a74dc0b3adde"
      },
      "source": [
        "df.columns"
      ],
      "execution_count": 35,
      "outputs": [
        {
          "output_type": "execute_result",
          "data": {
            "text/plain": [
              "Index(['MedInc', 'HouseAge', 'AveRooms', 'AveBedrms', 'Population', 'AveOccup',\n",
              "       'Latitude', 'Longitude', 'target'],\n",
              "      dtype='object')"
            ]
          },
          "metadata": {},
          "execution_count": 35
        }
      ]
    },
    {
      "cell_type": "code",
      "metadata": {
        "id": "YuTgJ_0ft-Ww"
      },
      "source": [
        "from sklearn.preprocessing import RobustScaler, StandardScaler, MinMaxScaler\n",
        "\n",
        "# reload data in case we re-run this\n",
        "df = load_data()\n",
        "\n",
        "# Robust\n",
        "robust_columns = [\"MedInc\", \"AveRooms\", \"AveBedrms\", \"Population\", \"AveOccup\"]\n",
        "\n",
        "scaler = RobustScaler()\n",
        "df[robust_columns] = scaler.fit_transform(df[robust_columns])\n",
        "\n",
        "# Standard\n",
        "standard_columns = [\"HouseAge\", \"target\"]\n",
        "\n",
        "scaler = StandardScaler()\n",
        "df[standard_columns] = scaler.fit_transform(df[standard_columns])\n",
        "\n",
        "# MinMax\n",
        "minmax_columns=[\"Latitude\", \"Longitude\"]\n",
        "\n",
        "scaler = MinMaxScaler()\n",
        "df[minmax_columns] = scaler.fit_transform(df[minmax_columns])\n"
      ],
      "execution_count": 36,
      "outputs": []
    },
    {
      "cell_type": "code",
      "metadata": {
        "colab": {
          "base_uri": "https://localhost:8080/",
          "height": 201
        },
        "id": "_GZrToyLwN15",
        "outputId": "89038bf4-f2f3-4d40-a803-8b84a848994c"
      },
      "source": [
        "df.head()"
      ],
      "execution_count": 37,
      "outputs": [
        {
          "output_type": "execute_result",
          "data": {
            "text/html": [
              "<div>\n",
              "<style scoped>\n",
              "    .dataframe tbody tr th:only-of-type {\n",
              "        vertical-align: middle;\n",
              "    }\n",
              "\n",
              "    .dataframe tbody tr th {\n",
              "        vertical-align: top;\n",
              "    }\n",
              "\n",
              "    .dataframe thead th {\n",
              "        text-align: right;\n",
              "    }\n",
              "</style>\n",
              "<table border=\"1\" class=\"dataframe\">\n",
              "  <thead>\n",
              "    <tr style=\"text-align: right;\">\n",
              "      <th></th>\n",
              "      <th>MedInc</th>\n",
              "      <th>HouseAge</th>\n",
              "      <th>AveRooms</th>\n",
              "      <th>AveBedrms</th>\n",
              "      <th>Population</th>\n",
              "      <th>AveOccup</th>\n",
              "      <th>Latitude</th>\n",
              "      <th>Longitude</th>\n",
              "      <th>target</th>\n",
              "    </tr>\n",
              "  </thead>\n",
              "  <tbody>\n",
              "    <tr>\n",
              "      <th>0</th>\n",
              "      <td>2.197582</td>\n",
              "      <td>0.982143</td>\n",
              "      <td>1.088935</td>\n",
              "      <td>-0.267221</td>\n",
              "      <td>-0.899787</td>\n",
              "      <td>-0.307981</td>\n",
              "      <td>0.567481</td>\n",
              "      <td>0.211155</td>\n",
              "      <td>2.129631</td>\n",
              "    </tr>\n",
              "    <tr>\n",
              "      <th>1</th>\n",
              "      <td>2.186664</td>\n",
              "      <td>-0.607019</td>\n",
              "      <td>0.626066</td>\n",
              "      <td>-0.822926</td>\n",
              "      <td>1.316631</td>\n",
              "      <td>-0.830800</td>\n",
              "      <td>0.565356</td>\n",
              "      <td>0.212151</td>\n",
              "      <td>1.314156</td>\n",
              "    </tr>\n",
              "    <tr>\n",
              "      <th>2</th>\n",
              "      <td>1.707732</td>\n",
              "      <td>1.856182</td>\n",
              "      <td>1.898042</td>\n",
              "      <td>0.263955</td>\n",
              "      <td>-0.714286</td>\n",
              "      <td>-0.018599</td>\n",
              "      <td>0.564293</td>\n",
              "      <td>0.210159</td>\n",
              "      <td>1.258693</td>\n",
              "    </tr>\n",
              "    <tr>\n",
              "      <th>3</th>\n",
              "      <td>0.967177</td>\n",
              "      <td>1.856182</td>\n",
              "      <td>0.364978</td>\n",
              "      <td>0.259814</td>\n",
              "      <td>-0.648188</td>\n",
              "      <td>-0.316908</td>\n",
              "      <td>0.564293</td>\n",
              "      <td>0.209163</td>\n",
              "      <td>1.165100</td>\n",
              "    </tr>\n",
              "    <tr>\n",
              "      <th>4</th>\n",
              "      <td>0.142854</td>\n",
              "      <td>1.856182</td>\n",
              "      <td>0.653191</td>\n",
              "      <td>0.345657</td>\n",
              "      <td>-0.640725</td>\n",
              "      <td>-0.746784</td>\n",
              "      <td>0.564293</td>\n",
              "      <td>0.209163</td>\n",
              "      <td>1.172900</td>\n",
              "    </tr>\n",
              "  </tbody>\n",
              "</table>\n",
              "</div>"
            ],
            "text/plain": [
              "     MedInc  HouseAge  AveRooms  ...  Latitude  Longitude    target\n",
              "0  2.197582  0.982143  1.088935  ...  0.567481   0.211155  2.129631\n",
              "1  2.186664 -0.607019  0.626066  ...  0.565356   0.212151  1.314156\n",
              "2  1.707732  1.856182  1.898042  ...  0.564293   0.210159  1.258693\n",
              "3  0.967177  1.856182  0.364978  ...  0.564293   0.209163  1.165100\n",
              "4  0.142854  1.856182  0.653191  ...  0.564293   0.209163  1.172900\n",
              "\n",
              "[5 rows x 9 columns]"
            ]
          },
          "metadata": {},
          "execution_count": 37
        }
      ]
    },
    {
      "cell_type": "code",
      "metadata": {
        "id": "B-TbtF209QSs"
      },
      "source": [
        "from sklearn.model_selection import train_test_split\n",
        "\n",
        "X = df.drop('target', axis = 1)\n",
        "y = df.target\n",
        "\n",
        "X_train, X_test, y_train, y_test = train_test_split(X.to_numpy(), y.to_numpy(), test_size=0.3, random_state=3)"
      ],
      "execution_count": 38,
      "outputs": []
    },
    {
      "cell_type": "code",
      "metadata": {
        "colab": {
          "base_uri": "https://localhost:8080/"
        },
        "id": "cBmctcDn-Dp2",
        "outputId": "46535aa2-348f-4dea-df24-4de998ce3b88"
      },
      "source": [
        "print(X_train.shape)\n",
        "print(y_train.shape)"
      ],
      "execution_count": 39,
      "outputs": [
        {
          "output_type": "stream",
          "name": "stdout",
          "text": [
            "(14448, 8)\n",
            "(14448,)\n"
          ]
        }
      ]
    },
    {
      "cell_type": "markdown",
      "metadata": {
        "id": "ZbGi2ZUb1gHz"
      },
      "source": [
        "# Build Model"
      ]
    },
    {
      "cell_type": "code",
      "metadata": {
        "id": "83en-peW8Dmb"
      },
      "source": [
        "#init weights ad biases with ones\n",
        "W = tf.Variable(tf.random.normal([9]))                 "
      ],
      "execution_count": 40,
      "outputs": []
    },
    {
      "cell_type": "code",
      "metadata": {
        "id": "WYfuBKu27qUb"
      },
      "source": [
        "#def placeholders\n",
        "X_ph = tf.placeholder(tf.float32, shape=(14448, 9), name=\"X_ph\")   \n",
        "y_ph = tf.placeholder(tf.float32, shape=(14448, 1), name = \"y_ph\")           "
      ],
      "execution_count": 41,
      "outputs": []
    },
    {
      "cell_type": "code",
      "metadata": {
        "colab": {
          "base_uri": "https://localhost:8080/"
        },
        "id": "bm0WLDy7KOPG",
        "outputId": "df0389f1-01d6-430b-c471-ce42d3e286a6"
      },
      "source": [
        "X_ph.shape"
      ],
      "execution_count": 42,
      "outputs": [
        {
          "output_type": "execute_result",
          "data": {
            "text/plain": [
              "TensorShape([14448, 9])"
            ]
          },
          "metadata": {},
          "execution_count": 42
        }
      ]
    },
    {
      "cell_type": "code",
      "metadata": {
        "colab": {
          "base_uri": "https://localhost:8080/"
        },
        "id": "dd0Vi6x9KRGM",
        "outputId": "58b5f7e3-704b-449e-cbd0-dd95fd54dfc7"
      },
      "source": [
        "W.shape"
      ],
      "execution_count": 43,
      "outputs": [
        {
          "output_type": "execute_result",
          "data": {
            "text/plain": [
              "TensorShape([9])"
            ]
          },
          "metadata": {},
          "execution_count": 43
        }
      ]
    },
    {
      "cell_type": "code",
      "metadata": {
        "id": "V2m_7dl67qW8"
      },
      "source": [
        "# Model.\n",
        "y_model = tf.tensordot(X_ph, W, axes=[1,0])"
      ],
      "execution_count": 44,
      "outputs": []
    },
    {
      "cell_type": "code",
      "metadata": {
        "id": "1DEZdLfY7qYg"
      },
      "source": [
        "loss = tf.reduce_mean(tf.square(y_ph - y_model)) \n",
        "optimizer = tf.train.GradientDescentOptimizer(learning_rate=0.001)     \n",
        "n_epochs = 10000                                          # N# of epochs (gradient descent steps).\n",
        "train = optimizer.minimize(loss)                         # Define training.\n",
        "init = tf.global_variables_initializer()  "
      ],
      "execution_count": 45,
      "outputs": []
    },
    {
      "cell_type": "code",
      "metadata": {
        "colab": {
          "base_uri": "https://localhost:8080/"
        },
        "id": "OIfXuJC1PCPV",
        "outputId": "7497e118-d8a0-4243-ce83-cc88c2db42db"
      },
      "source": [
        "n, m = X_train.shape\n",
        "X_train.shape"
      ],
      "execution_count": 46,
      "outputs": [
        {
          "output_type": "execute_result",
          "data": {
            "text/plain": [
              "(14448, 8)"
            ]
          },
          "metadata": {},
          "execution_count": 46
        }
      ]
    },
    {
      "cell_type": "code",
      "metadata": {
        "colab": {
          "base_uri": "https://localhost:8080/"
        },
        "id": "SNKV8oMHPnuX",
        "outputId": "c37aeb6f-6208-42d2-dba6-d5fabc95fd0b"
      },
      "source": [
        "X_train_bias=np.c_[np.ones((n,1)), X_train]\n",
        "X_train_bias.shape"
      ],
      "execution_count": 47,
      "outputs": [
        {
          "output_type": "execute_result",
          "data": {
            "text/plain": [
              "(14448, 9)"
            ]
          },
          "metadata": {},
          "execution_count": 47
        }
      ]
    },
    {
      "cell_type": "code",
      "metadata": {
        "colab": {
          "base_uri": "https://localhost:8080/"
        },
        "id": "_XpawJHjR3KP",
        "outputId": "e8d33ddd-e833-4030-d688-9d78d5254d59"
      },
      "source": [
        "y_train.shape"
      ],
      "execution_count": 48,
      "outputs": [
        {
          "output_type": "execute_result",
          "data": {
            "text/plain": [
              "(14448,)"
            ]
          },
          "metadata": {},
          "execution_count": 48
        }
      ]
    },
    {
      "cell_type": "code",
      "metadata": {
        "id": "y5mL2IRI7qaI",
        "colab": {
          "base_uri": "https://localhost:8080/"
        },
        "outputId": "6aab679b-ba5c-4911-859f-450857c6ca21"
      },
      "source": [
        "#Training\n",
        "\n",
        "with tf.Session() as sess:\n",
        "        # Variables initialization.\n",
        "        sess.run(init)\n",
        "        # Training.\n",
        "        my_feed = {X_ph:X_train_bias, y_ph:y_train.reshape(-1,1)}                        # Prepare feed data as a dictionary. \n",
        "        for i in range(n_epochs):\n",
        "            sess.run(train, feed_dict = my_feed)\n",
        "            if ((i % 500) == 0):print(i)\n",
        "        W = sess.run(W)                   # Get the final values of the Variables.\n",
        "        # Testing.\n",
        "        \n",
        "        mse_value = sess.run(loss, feed_dict = my_feed)   "
      ],
      "execution_count": 49,
      "outputs": [
        {
          "output_type": "stream",
          "name": "stdout",
          "text": [
            "0\n",
            "500\n",
            "1000\n",
            "1500\n",
            "2000\n",
            "2500\n",
            "3000\n",
            "3500\n",
            "4000\n",
            "4500\n",
            "5000\n",
            "5500\n",
            "6000\n",
            "6500\n",
            "7000\n",
            "7500\n",
            "8000\n",
            "8500\n",
            "9000\n",
            "9500\n"
          ]
        }
      ]
    },
    {
      "cell_type": "code",
      "metadata": {
        "colab": {
          "base_uri": "https://localhost:8080/"
        },
        "id": "cTDv_iEeUtoG",
        "outputId": "89ce28b2-eaa4-48c2-90a1-09f83b5cf2ce"
      },
      "source": [
        "rmse = np.sqrt(mse_value)\n",
        "\n",
        "print(\"RMSE =\", rmse)"
      ],
      "execution_count": 53,
      "outputs": [
        {
          "output_type": "stream",
          "name": "stdout",
          "text": [
            "RMSE = 1.0055038\n"
          ]
        }
      ]
    },
    {
      "cell_type": "code",
      "metadata": {
        "id": "UuykbR01hoAT"
      },
      "source": [
        ""
      ],
      "execution_count": null,
      "outputs": []
    }
  ]
}