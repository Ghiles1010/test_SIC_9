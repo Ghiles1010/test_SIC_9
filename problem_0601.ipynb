{
  "nbformat": 4,
  "nbformat_minor": 0,
  "metadata": {
    "kernelspec": {
      "display_name": "Python 3",
      "language": "python",
      "name": "python3"
    },
    "language_info": {
      "codemirror_mode": {
        "name": "ipython",
        "version": 3
      },
      "file_extension": ".py",
      "mimetype": "text/x-python",
      "name": "python",
      "nbconvert_exporter": "python",
      "pygments_lexer": "ipython3",
      "version": "3.7.3"
    },
    "colab": {
      "name": "problem_0601.ipynb",
      "provenance": [],
      "collapsed_sections": [],
      "include_colab_link": true
    }
  },
  "cells": [
    {
      "cell_type": "markdown",
      "metadata": {
        "id": "view-in-github",
        "colab_type": "text"
      },
      "source": [
        "<a href=\"https://colab.research.google.com/github/Ghiles1010/test_SIC_9/blob/main/problem_0601.ipynb\" target=\"_parent\"><img src=\"https://colab.research.google.com/assets/colab-badge.svg\" alt=\"Open In Colab\"/></a>"
      ]
    },
    {
      "cell_type": "markdown",
      "metadata": {
        "id": "C78ysjnnhLAJ"
      },
      "source": [
        "## Coding Problem #0601"
      ]
    },
    {
      "cell_type": "markdown",
      "metadata": {
        "id": "nIh-q_cmhLAP"
      },
      "source": [
        "### \"NLP Classification Analysis.\""
      ]
    },
    {
      "cell_type": "markdown",
      "metadata": {
        "id": "YD7Kxnq7hLAQ"
      },
      "source": [
        "#### Answer the following questions by providing Python code:\n",
        "#### Objectives:\n",
        "- Pre-processing of text data.\n",
        "- Create a TF IDF representation.\n",
        "- Carry out the predictive analysis using the Naive Bayes algorithm. "
      ]
    },
    {
      "cell_type": "code",
      "metadata": {
        "id": "PvixsqYvhLAS",
        "colab": {
          "base_uri": "https://localhost:8080/"
        },
        "outputId": "84744103-b4ff-4a22-aa17-f9f939a6cd20"
      },
      "source": [
        "import numpy as np\n",
        "import pandas as pd\n",
        "\n",
        "import re\n",
        "import nltk\n",
        "nltk.download('stopwords')\n",
        "from nltk.corpus import stopwords\n",
        "\n",
        "import seaborn as sns\n",
        "import matplotlib.pyplot as plt\n",
        "\n",
        "import warnings\n",
        "from sklearn.datasets import load_files\n",
        "from sklearn.model_selection import train_test_split\n",
        "from sklearn.feature_extraction.text import TfidfVectorizer\n",
        "from sklearn.naive_bayes import GaussianNB\n",
        "from sklearn.metrics import confusion_matrix\n",
        "from sklearn.metrics import accuracy_score\n",
        "warnings.filterwarnings('ignore')               # Turn the warnings off."
      ],
      "execution_count": 1,
      "outputs": [
        {
          "output_type": "stream",
          "name": "stdout",
          "text": [
            "[nltk_data] Downloading package stopwords to /root/nltk_data...\n",
            "[nltk_data]   Package stopwords is already up-to-date!\n"
          ]
        }
      ]
    },
    {
      "cell_type": "markdown",
      "metadata": {
        "id": "_9D1OsUrhLAU"
      },
      "source": [
        "#### Read in data:\n",
        "Movie review data from Cornell CS department. <br>\n",
        "- The data can be found [here](https://www.cs.cornell.edu/people/pabo/movie-review-data). <br>\n",
        "- Download the “polarity dataset” and unzip. <br>\n",
        "- Under the \"txt_sentoken” folder, there are “pos” and “neg\" subfolders. <br>"
      ]
    },
    {
      "cell_type": "code",
      "metadata": {
        "id": "NHq3fQQfZ-Nw"
      },
      "source": [
        "# Downloading dataset\n",
        "\n",
        "!wget https://www.cs.cornell.edu/people/pabo/movie-review-data/review_polarity.tar.gz\n",
        "!tar xvzf review_polarity.tar.gz"
      ],
      "execution_count": null,
      "outputs": []
    },
    {
      "cell_type": "code",
      "metadata": {
        "id": "Tzh0szbWhLAW"
      },
      "source": [
        "# Specify the folder and read in the subfolders.\n",
        "reviews = load_files('txt_sentoken/')\n",
        "my_docs, y = reviews.data, reviews.target"
      ],
      "execution_count": 3,
      "outputs": []
    },
    {
      "cell_type": "code",
      "metadata": {
        "id": "LKNomYLlhLAX",
        "colab": {
          "base_uri": "https://localhost:8080/"
        },
        "outputId": "71a38917-8dcb-4cf4-8657-65d1a9d886a5"
      },
      "source": [
        "len(my_docs)"
      ],
      "execution_count": 4,
      "outputs": [
        {
          "output_type": "execute_result",
          "data": {
            "text/plain": [
              "2000"
            ]
          },
          "metadata": {},
          "execution_count": 4
        }
      ]
    },
    {
      "cell_type": "code",
      "metadata": {
        "id": "FKk5yrPghLAZ",
        "colab": {
          "base_uri": "https://localhost:8080/"
        },
        "outputId": "9864e903-e90c-424c-a41d-6c222696b887"
      },
      "source": [
        "np.unique(y, return_counts=True)"
      ],
      "execution_count": 5,
      "outputs": [
        {
          "output_type": "execute_result",
          "data": {
            "text/plain": [
              "(array([0, 1]), array([1000, 1000]))"
            ]
          },
          "metadata": {},
          "execution_count": 5
        }
      ]
    },
    {
      "cell_type": "code",
      "metadata": {
        "id": "N962Q4EphLAa",
        "colab": {
          "base_uri": "https://localhost:8080/",
          "height": 281
        },
        "outputId": "a6720bc8-21a2-41aa-d076-53a284a0b443"
      },
      "source": [
        "# Visualize the response variable.\n",
        "sns.countplot(y).set_title(\"Frequency Table\")\n",
        "plt.show()"
      ],
      "execution_count": 6,
      "outputs": [
        {
          "output_type": "display_data",
          "data": {
            "image/png": "[encoded data removed]",
            "text/plain": [
              "<Figure size 432x288 with 1 Axes>"
            ]
          },
          "metadata": {
            "needs_background": "light"
          }
        }
      ]
    },
    {
      "cell_type": "markdown",
      "metadata": {
        "id": "CepXD3AfhLAc"
      },
      "source": [
        "1). Carry out the data pre-processing:"
      ]
    },
    {
      "cell_type": "code",
      "metadata": {
        "id": "ASaWRt3OhLAd"
      },
      "source": [
        "def cleantxt(txt):\n",
        "    \"\"\"\n",
        "    Cleans the string passed. Cleaning Includes-\n",
        "    1. remove special characters/symbols\n",
        "    2. convert text to lower-case\n",
        "    3. retain only alphabets\n",
        "    4. remove words less than 3 characters\n",
        "    5. remove stop-words\n",
        "    \"\"\"  \n",
        "    # collecting english stop words from nltk-library\n",
        "    stpw = stopwords.words('english')\n",
        "    \n",
        "    # Adding custom stop-words\n",
        "    stpw.extend(['www','http','utc'])\n",
        "    stpw = set(stpw)\n",
        "\n",
        "    txt = txt.decode('utf-8')\n",
        "    \n",
        "    # using regex to clean the text\n",
        "    txt = re.sub(r\"\\n\", \" \", txt)\n",
        "    txt = re.sub(\"[\\<\\[].*?[\\>\\]]\", \" \", txt)\n",
        "    txt = txt.lower()\n",
        "    txt = re.sub(r\"[^a-z ]\", \" \", txt)\n",
        "    txt = re.sub(r\"\\b\\w{1,3}\\b\", \" \",txt)\n",
        "    txt = \" \".join([x for x in txt.split() if x not in stpw])\n",
        "    return txt\n",
        "\n",
        "\n",
        "for idx, text in enumerate(my_docs):\n",
        "  my_docs[idx] = cleantxt(text)\n"
      ],
      "execution_count": 7,
      "outputs": []
    },
    {
      "cell_type": "markdown",
      "metadata": {
        "id": "Xokt070xhLAd"
      },
      "source": [
        "# 2). Create a TF IDF representation."
      ]
    },
    {
      "cell_type": "code",
      "metadata": {
        "id": "aPdEIOlufC9w"
      },
      "source": [
        "vect = TfidfVectorizer(decode_error='ignore',stop_words='english')\n",
        "\n",
        "X = vect.fit_transform(my_docs).toarray()"
      ],
      "execution_count": 8,
      "outputs": []
    },
    {
      "cell_type": "markdown",
      "metadata": {
        "id": "E0j9Fo2xhLAe"
      },
      "source": [
        "3). Apply the Naive Bayes algorithm. Calculate the accuracy."
      ]
    },
    {
      "cell_type": "code",
      "metadata": {
        "id": "egDDpMUshLAf"
      },
      "source": [
        "X_train, X_test, Y_train, Y_test = train_test_split(X, y, test_size = 0.3, random_state = 1234)\n"
      ],
      "execution_count": 9,
      "outputs": []
    },
    {
      "cell_type": "code",
      "metadata": {
        "id": "mkBeEs0DZ-e6",
        "colab": {
          "base_uri": "https://localhost:8080/"
        },
        "outputId": "ff48f6fb-781c-47f9-9948-89a01a9fb52f"
      },
      "source": [
        "# Training.\n",
        "#after trying different var_smoothing value, we find that 0.01 works fine\n",
        "\n",
        "NB = GaussianNB(var_smoothing=0.01)\n",
        "NB.fit(X_train, Y_train)"
      ],
      "execution_count": 10,
      "outputs": [
        {
          "output_type": "execute_result",
          "data": {
            "text/plain": [
              "GaussianNB(priors=None, var_smoothing=0.01)"
            ]
          },
          "metadata": {},
          "execution_count": 10
        }
      ]
    },
    {
      "cell_type": "code",
      "metadata": {
        "id": "njvHZxk7aDrA"
      },
      "source": [
        "# Testing.\n",
        "Y_pred = NB.predict(X_test)"
      ],
      "execution_count": 11,
      "outputs": []
    },
    {
      "cell_type": "code",
      "metadata": {
        "id": "eAbGrrMbaDh-",
        "colab": {
          "base_uri": "https://localhost:8080/",
          "height": 444
        },
        "outputId": "5b089691-6b0d-4338-8edc-1bf66a14226f"
      },
      "source": [
        "matrix = confusion_matrix(Y_test, Y_pred)\n",
        "\n",
        "df_cm = pd.DataFrame(matrix, index = ['neg', 'pos'], columns = ['neg', 'pos'])\n",
        "plt.figure(figsize = (10,7))\n",
        "sns.heatmap(df_cm, annot=True)"
      ],
      "execution_count": 12,
      "outputs": [
        {
          "output_type": "execute_result",
          "data": {
            "text/plain": [
              "<matplotlib.axes._subplots.AxesSubplot at 0x7fea0a201c90>"
            ]
          },
          "metadata": {},
          "execution_count": 12
        },
        {
          "output_type": "display_data",
          "data": {
            "image/png": "[encoded data removed]",
            "text/plain": [
              "<Figure size 720x504 with 2 Axes>"
            ]
          },
          "metadata": {
            "needs_background": "light"
          }
        }
      ]
    },
    {
      "cell_type": "code",
      "metadata": {
        "id": "mTz-tJhJaDWN",
        "colab": {
          "base_uri": "https://localhost:8080/"
        },
        "outputId": "35f15508-4d90-4563-f77d-32fd08cfdca1"
      },
      "source": [
        "#use accuracy_score\n",
        "accuracy = accuracy_score(Y_test, Y_pred)\n",
        "\n",
        "print(\"Accuracy = \", accuracy)"
      ],
      "execution_count": 13,
      "outputs": [
        {
          "output_type": "stream",
          "name": "stdout",
          "text": [
            "Accuracy =  0.71\n"
          ]
        }
      ]
    }
  ]
}